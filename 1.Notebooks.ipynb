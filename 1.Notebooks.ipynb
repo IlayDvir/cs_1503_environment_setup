{
 "cells": [
  {
   "cell_type": "markdown",
   "id": "e44f73e3",
   "metadata": {},
   "source": [
    "# Title for my recitations"
   ]
  },
  {
   "cell_type": "code",
   "execution_count": null,
   "id": "44fd14ab",
   "metadata": {},
   "outputs": [],
   "source": []
  },
  {
   "cell_type": "markdown",
   "id": "09b66c33",
   "metadata": {},
   "source": [
    "# Title for recitations"
   ]
  },
  {
   "cell_type": "markdown",
   "id": "903a9c4e",
   "metadata": {},
   "source": [
    "1. Ilay Dvir\n",
    "2. 1/24/24\n",
    "\n"
   ]
  },
  {
   "cell_type": "markdown",
   "id": "856e4a66",
   "metadata": {},
   "source": [
    "## Markdown Exercises\n",
    "\n",
    "Why are you or are you not interested in machine learning?\n",
    " __I am interested in machine learning because it is being used to frequently in todays world. I think that it is very crucial as a Computer Science major to have a background in machine learning__\n",
    "\n",
    ">Make a Markdown list of 3--5 things you'd like to learn from this course.\n",
    "1. _How does apps like chatgbt work_\n",
    "2. What is the \"enhanced autocorrect\" that AIs `perform`\n",
    "3. _Would like to learn the basics of creating an AI_\n",
    "4. Would be interested in learning more about the Statistics aspect\n"
   ]
  },
  {
   "cell_type": "markdown",
   "id": "c37ef887",
   "metadata": {},
   "source": [
    "![gif pic](https://media1.giphy.com/media/cc1qxG84S13aCAbuKQ/giphy.gif)\n",
    "\n"
   ]
  },
  {
   "cell_type": "markdown",
   "id": "57b40211",
   "metadata": {},
   "source": [
    "## Jupyter Notebook Exercises"
   ]
  },
  {
   "cell_type": "code",
   "execution_count": 2,
   "id": "808cc185",
   "metadata": {},
   "outputs": [
    {
     "name": "stdout",
     "output_type": "stream",
     "text": [
      "What is your name? Ilay\n",
      "Hello Ilay !\n"
     ]
    }
   ],
   "source": [
    "name = input(prompt=\"What is your name? \")\n",
    "print(\"Hello\", name, \"!\")"
   ]
  },
  {
   "cell_type": "code",
   "execution_count": null,
   "id": "07cd3838",
   "metadata": {},
   "outputs": [],
   "source": []
  }
 ],
 "metadata": {
  "kernelspec": {
   "display_name": "Python 3 (ipykernel)",
   "language": "python",
   "name": "python3"
  },
  "language_info": {
   "codemirror_mode": {
    "name": "ipython",
    "version": 3
   },
   "file_extension": ".py",
   "mimetype": "text/x-python",
   "name": "python",
   "nbconvert_exporter": "python",
   "pygments_lexer": "ipython3",
   "version": "3.11.5"
  }
 },
 "nbformat": 4,
 "nbformat_minor": 5
}
